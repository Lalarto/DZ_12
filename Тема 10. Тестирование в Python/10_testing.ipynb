{
  "nbformat": 4,
  "nbformat_minor": 0,
  "metadata": {
    "colab": {
      "provenance": []
    },
    "kernelspec": {
      "name": "python3",
      "display_name": "Python 3"
    },
    "language_info": {
      "name": "python"
    }
  },
  "cells": [
    {
      "cell_type": "code",
      "execution_count": 1,
      "metadata": {
        "colab": {
          "base_uri": "https://localhost:8080/"
        },
        "id": "yb9IwbbgapAM",
        "outputId": "d9bf4d92-01cd-40f9-f96e-0e9744ce6671"
      },
      "outputs": [
        {
          "output_type": "stream",
          "name": "stdout",
          "text": [
            "Looking in indexes: https://pypi.org/simple, https://us-python.pkg.dev/colab-wheels/public/simple/\n",
            "Collecting ipytest\n",
            "  Downloading ipytest-0.12.0-py3-none-any.whl (15 kB)\n",
            "Collecting pytest>=5.4\n",
            "  Downloading pytest-7.2.0-py3-none-any.whl (316 kB)\n",
            "\u001b[K     |████████████████████████████████| 316 kB 4.2 MB/s \n",
            "\u001b[?25hRequirement already satisfied: ipython in /usr/local/lib/python3.7/dist-packages (from ipytest) (7.9.0)\n",
            "Requirement already satisfied: packaging in /usr/local/lib/python3.7/dist-packages (from ipytest) (21.3)\n",
            "Collecting pluggy<2.0,>=0.12\n",
            "  Downloading pluggy-1.0.0-py2.py3-none-any.whl (13 kB)\n",
            "Requirement already satisfied: tomli>=1.0.0 in /usr/local/lib/python3.7/dist-packages (from pytest>=5.4->ipytest) (2.0.1)\n",
            "Collecting iniconfig\n",
            "  Downloading iniconfig-1.1.1-py2.py3-none-any.whl (5.0 kB)\n",
            "Requirement already satisfied: importlib-metadata>=0.12 in /usr/local/lib/python3.7/dist-packages (from pytest>=5.4->ipytest) (4.13.0)\n",
            "Requirement already satisfied: attrs>=19.2.0 in /usr/local/lib/python3.7/dist-packages (from pytest>=5.4->ipytest) (22.1.0)\n",
            "Collecting exceptiongroup>=1.0.0rc8\n",
            "  Downloading exceptiongroup-1.0.1-py3-none-any.whl (12 kB)\n",
            "Requirement already satisfied: zipp>=0.5 in /usr/local/lib/python3.7/dist-packages (from importlib-metadata>=0.12->pytest>=5.4->ipytest) (3.10.0)\n",
            "Requirement already satisfied: typing-extensions>=3.6.4 in /usr/local/lib/python3.7/dist-packages (from importlib-metadata>=0.12->pytest>=5.4->ipytest) (4.1.1)\n",
            "Requirement already satisfied: pickleshare in /usr/local/lib/python3.7/dist-packages (from ipython->ipytest) (0.7.5)\n",
            "Requirement already satisfied: setuptools>=18.5 in /usr/local/lib/python3.7/dist-packages (from ipython->ipytest) (57.4.0)\n",
            "Collecting jedi>=0.10\n",
            "  Downloading jedi-0.18.1-py2.py3-none-any.whl (1.6 MB)\n",
            "\u001b[K     |████████████████████████████████| 1.6 MB 36.0 MB/s \n",
            "\u001b[?25hRequirement already satisfied: pygments in /usr/local/lib/python3.7/dist-packages (from ipython->ipytest) (2.6.1)\n",
            "Requirement already satisfied: prompt-toolkit<2.1.0,>=2.0.0 in /usr/local/lib/python3.7/dist-packages (from ipython->ipytest) (2.0.10)\n",
            "Requirement already satisfied: backcall in /usr/local/lib/python3.7/dist-packages (from ipython->ipytest) (0.2.0)\n",
            "Requirement already satisfied: decorator in /usr/local/lib/python3.7/dist-packages (from ipython->ipytest) (4.4.2)\n",
            "Requirement already satisfied: pexpect in /usr/local/lib/python3.7/dist-packages (from ipython->ipytest) (4.8.0)\n",
            "Requirement already satisfied: traitlets>=4.2 in /usr/local/lib/python3.7/dist-packages (from ipython->ipytest) (5.1.1)\n",
            "Requirement already satisfied: parso<0.9.0,>=0.8.0 in /usr/local/lib/python3.7/dist-packages (from jedi>=0.10->ipython->ipytest) (0.8.3)\n",
            "Requirement already satisfied: six>=1.9.0 in /usr/local/lib/python3.7/dist-packages (from prompt-toolkit<2.1.0,>=2.0.0->ipython->ipytest) (1.15.0)\n",
            "Requirement already satisfied: wcwidth in /usr/local/lib/python3.7/dist-packages (from prompt-toolkit<2.1.0,>=2.0.0->ipython->ipytest) (0.2.5)\n",
            "Requirement already satisfied: pyparsing!=3.0.5,>=2.0.2 in /usr/local/lib/python3.7/dist-packages (from packaging->ipytest) (3.0.9)\n",
            "Requirement already satisfied: ptyprocess>=0.5 in /usr/local/lib/python3.7/dist-packages (from pexpect->ipython->ipytest) (0.7.0)\n",
            "Installing collected packages: pluggy, jedi, iniconfig, exceptiongroup, pytest, ipytest\n",
            "  Attempting uninstall: pluggy\n",
            "    Found existing installation: pluggy 0.7.1\n",
            "    Uninstalling pluggy-0.7.1:\n",
            "      Successfully uninstalled pluggy-0.7.1\n",
            "  Attempting uninstall: pytest\n",
            "    Found existing installation: pytest 3.6.4\n",
            "    Uninstalling pytest-3.6.4:\n",
            "      Successfully uninstalled pytest-3.6.4\n",
            "Successfully installed exceptiongroup-1.0.1 iniconfig-1.1.1 ipytest-0.12.0 jedi-0.18.1 pluggy-1.0.0 pytest-7.2.0\n"
          ]
        }
      ],
      "source": [
        "pip install ipytest"
      ]
    },
    {
      "cell_type": "code",
      "source": [
        "pip install pytest-mock"
      ],
      "metadata": {
        "colab": {
          "base_uri": "https://localhost:8080/"
        },
        "id": "Fhpiav81kBTL",
        "outputId": "c05ea3b7-2c30-436e-a374-080cd1c2a898"
      },
      "execution_count": 7,
      "outputs": [
        {
          "output_type": "stream",
          "name": "stdout",
          "text": [
            "Looking in indexes: https://pypi.org/simple, https://us-python.pkg.dev/colab-wheels/public/simple/\n",
            "Collecting pytest-mock\n",
            "  Downloading pytest_mock-3.10.0-py3-none-any.whl (9.3 kB)\n",
            "Requirement already satisfied: pytest>=5.0 in /usr/local/lib/python3.7/dist-packages (from pytest-mock) (7.2.0)\n",
            "Requirement already satisfied: tomli>=1.0.0 in /usr/local/lib/python3.7/dist-packages (from pytest>=5.0->pytest-mock) (2.0.1)\n",
            "Requirement already satisfied: packaging in /usr/local/lib/python3.7/dist-packages (from pytest>=5.0->pytest-mock) (21.3)\n",
            "Requirement already satisfied: attrs>=19.2.0 in /usr/local/lib/python3.7/dist-packages (from pytest>=5.0->pytest-mock) (22.1.0)\n",
            "Requirement already satisfied: exceptiongroup>=1.0.0rc8 in /usr/local/lib/python3.7/dist-packages (from pytest>=5.0->pytest-mock) (1.0.1)\n",
            "Requirement already satisfied: pluggy<2.0,>=0.12 in /usr/local/lib/python3.7/dist-packages (from pytest>=5.0->pytest-mock) (1.0.0)\n",
            "Requirement already satisfied: importlib-metadata>=0.12 in /usr/local/lib/python3.7/dist-packages (from pytest>=5.0->pytest-mock) (4.13.0)\n",
            "Requirement already satisfied: iniconfig in /usr/local/lib/python3.7/dist-packages (from pytest>=5.0->pytest-mock) (1.1.1)\n",
            "Requirement already satisfied: typing-extensions>=3.6.4 in /usr/local/lib/python3.7/dist-packages (from importlib-metadata>=0.12->pytest>=5.0->pytest-mock) (4.1.1)\n",
            "Requirement already satisfied: zipp>=0.5 in /usr/local/lib/python3.7/dist-packages (from importlib-metadata>=0.12->pytest>=5.0->pytest-mock) (3.10.0)\n",
            "Requirement already satisfied: pyparsing!=3.0.5,>=2.0.2 in /usr/local/lib/python3.7/dist-packages (from packaging->pytest>=5.0->pytest-mock) (3.0.9)\n",
            "Installing collected packages: pytest-mock\n",
            "Successfully installed pytest-mock-3.10.0\n"
          ]
        }
      ]
    },
    {
      "cell_type": "code",
      "source": [
        "import pytest\n",
        "import ipytest\n",
        "\n",
        "ipytest.autoconfig(addopts=[\"-v\"])\n"
      ],
      "metadata": {
        "id": "I8rneYOWbnva"
      },
      "execution_count": 27,
      "outputs": []
    },
    {
      "cell_type": "code",
      "source": [
        "%%ipytest\n",
        "\n",
        "@pytest.fixture\n",
        "def make_customer_record():\n",
        "    def _make_customer_record(name):\n",
        "        return {\"name\": name, \"orders\": []}\n",
        "\n",
        "    return _make_customer_record\n",
        "\n",
        "\n",
        "def test_customer_records(make_customer_record):\n",
        "    customer_1 = make_customer_record(\"Lisa\")\n",
        "    customer_2 = make_customer_record(\"Mike\")\n",
        "    customer_3 = make_customer_record(\"Meredith\")"
      ],
      "metadata": {
        "colab": {
          "base_uri": "https://localhost:8080/"
        },
        "id": "_ise9HoMa5lf",
        "outputId": "0ccd1c80-6e50-4012-c8be-f1eed6700814"
      },
      "execution_count": 3,
      "outputs": [
        {
          "output_type": "stream",
          "name": "stdout",
          "text": [
            "\u001b[32m.\u001b[0m\u001b[32m                                                                                            [100%]\u001b[0m\n",
            "\u001b[32m\u001b[32m\u001b[1m1 passed\u001b[0m\u001b[32m in 0.03s\u001b[0m\u001b[0m\n"
          ]
        }
      ]
    },
    {
      "cell_type": "code",
      "source": [],
      "metadata": {
        "id": "Jhtubvx9bzXY"
      },
      "execution_count": null,
      "outputs": []
    },
    {
      "cell_type": "code",
      "source": [
        "%%ipytest\n",
        "import os, tempfile\n",
        "@pytest.fixture\n",
        "def cleandir():\n",
        "    with tempfile.TemporaryDirectory() as newpath:\n",
        "        old_cwd = os.getcwd()\n",
        "        os.chdir(newpath)\n",
        "        yield\n",
        "        os.chdir(old_cwd)\n",
        "\n",
        "@pytest.mark.usefixtures(\"cleandir\")\n",
        "class TestDirectoryInit:\n",
        "    def test_cwd_starts_empty(self):\n",
        "        assert os.listdir(os.getcwd()) == []\n",
        "        with open(\"myfile\", \"w\") as f:\n",
        "            f.write(\"hello\")\n",
        "\n",
        "    def test_cwd_again_starts_empty(self):\n",
        "        assert os.listdir(os.getcwd()) == []"
      ],
      "metadata": {
        "colab": {
          "base_uri": "https://localhost:8080/"
        },
        "id": "qI02RHp8m-jt",
        "outputId": "465c3ba1-944a-48ed-f95b-ecf8d9276208"
      },
      "execution_count": 28,
      "outputs": [
        {
          "output_type": "stream",
          "name": "stdout",
          "text": [
            "======================================= test session starts ========================================\n",
            "platform linux -- Python 3.7.15, pytest-7.2.0, pluggy-1.0.0 -- /usr/bin/python3\n",
            "cachedir: .pytest_cache\n",
            "rootdir: /content\n",
            "plugins: mock-3.10.0, typeguard-2.7.1\n",
            "collecting ... collected 2 items\n",
            "\n",
            "tmp2bdv74yx.py::TestDirectoryInit::test_cwd_starts_empty PASSED                              [ 50%]\n",
            "tmp2bdv74yx.py::TestDirectoryInit::test_cwd_again_starts_empty PASSED                        [100%]\n",
            "\n",
            "======================================== 2 passed in 0.04s =========================================\n"
          ]
        }
      ]
    },
    {
      "cell_type": "markdown",
      "source": [
        "## Работа с Mock, MagicMock, Patch"
      ],
      "metadata": {
        "id": "DunXNacHT0o8"
      }
    },
    {
      "cell_type": "code",
      "source": [
        "from unittest.mock import Mock, MagicMock, patch"
      ],
      "metadata": {
        "id": "mNH58RkeUGvG"
      },
      "execution_count": null,
      "outputs": []
    },
    {
      "cell_type": "markdown",
      "source": [
        "#### Пример использования Mock"
      ],
      "metadata": {
        "id": "GX1T5uj2amIF"
      }
    },
    {
      "cell_type": "code",
      "source": [
        "class ProductionClass:\n",
        "    def closer(self, something):\n",
        "        something.close()\n",
        "        \n",
        "real = ProductionClass()\n",
        "mock = Mock()\n",
        "real.closer(mock)\n",
        "mock.close.assert_called_with()"
      ],
      "metadata": {
        "id": "14VH1wKeasLJ"
      },
      "execution_count": null,
      "outputs": []
    },
    {
      "cell_type": "code",
      "source": [
        "mock = Mock()\n",
        "print(type(mock))\n",
        "print(type(mock.method()))"
      ],
      "metadata": {
        "colab": {
          "base_uri": "https://localhost:8080/"
        },
        "id": "26KgcsXjT0SH",
        "outputId": "30f3b856-3ec0-40b8-d309-9f6ac0437ba9"
      },
      "execution_count": null,
      "outputs": [
        {
          "output_type": "stream",
          "name": "stdout",
          "text": [
            "<class 'unittest.mock.Mock'>\n",
            "<class 'unittest.mock.Mock'>\n"
          ]
        }
      ]
    },
    {
      "cell_type": "markdown",
      "source": [
        "### Аттрибуты Mock"
      ],
      "metadata": {
        "id": "XCaT-qT9XcqX"
      }
    },
    {
      "cell_type": "code",
      "source": [
        "mock.method.call_count"
      ],
      "metadata": {
        "id": "mfXmJTHIXbnk"
      },
      "execution_count": null,
      "outputs": []
    },
    {
      "cell_type": "code",
      "source": [
        "mock.call_args"
      ],
      "metadata": {
        "colab": {
          "base_uri": "https://localhost:8080/"
        },
        "id": "lv0wmGy7XIFw",
        "outputId": "8550a71b-3a8e-4c0c-e324-7b0e1560a5d9"
      },
      "execution_count": null,
      "outputs": [
        {
          "output_type": "stream",
          "name": "stdout",
          "text": [
            "None\n"
          ]
        }
      ]
    },
    {
      "cell_type": "code",
      "source": [
        "mock.call_args_list"
      ],
      "metadata": {
        "colab": {
          "base_uri": "https://localhost:8080/"
        },
        "id": "DGWDGhSLUpl9",
        "outputId": "681932ce-8b2d-4657-baba-0c257343cb65"
      },
      "execution_count": null,
      "outputs": [
        {
          "output_type": "execute_result",
          "data": {
            "text/plain": [
              "[]"
            ]
          },
          "metadata": {},
          "execution_count": 32
        }
      ]
    },
    {
      "cell_type": "code",
      "source": [
        "mock.method_calls"
      ],
      "metadata": {
        "colab": {
          "base_uri": "https://localhost:8080/"
        },
        "id": "Ac6HGNKfXj14",
        "outputId": "72847f56-ff87-4b4c-cfb7-240cbbf7be36"
      },
      "execution_count": null,
      "outputs": [
        {
          "output_type": "execute_result",
          "data": {
            "text/plain": [
              "[call.getdoc(),\n",
              " call.getdoc(),\n",
              " call.getdoc(),\n",
              " call.getdoc(),\n",
              " call.method.getdoc(),\n",
              " call.getdoc(),\n",
              " call.getdoc(),\n",
              " call.getdoc.getdoc(),\n",
              " call.method.getdoc(),\n",
              " call.method.getdoc()]"
            ]
          },
          "metadata": {},
          "execution_count": 37
        }
      ]
    },
    {
      "cell_type": "code",
      "source": [
        "mock.mock_calls"
      ],
      "metadata": {
        "colab": {
          "base_uri": "https://localhost:8080/"
        },
        "id": "mHkrOotbX5BY",
        "outputId": "ee97fbd3-a5ea-4fe6-e681-7d8e2193252c"
      },
      "execution_count": null,
      "outputs": [
        {
          "output_type": "execute_result",
          "data": {
            "text/plain": [
              "[call.getdoc(),\n",
              " call.getdoc(),\n",
              " call.getdoc(),\n",
              " call.getdoc(),\n",
              " call.method.getdoc(),\n",
              " call.getdoc(),\n",
              " call.getdoc(),\n",
              " call.getdoc.getdoc(),\n",
              " call.method.getdoc(),\n",
              " call.method.getdoc(),\n",
              " call.getdoc(),\n",
              " call.getdoc(),\n",
              " call.getdoc.getdoc(),\n",
              " call.method.getdoc()]"
            ]
          },
          "metadata": {},
          "execution_count": 38
        }
      ]
    },
    {
      "cell_type": "markdown",
      "source": [
        "#### mock_calls"
      ],
      "metadata": {
        "id": "4M3BhU7OYSaI"
      }
    },
    {
      "cell_type": "code",
      "source": [
        "mock = MagicMock()\n",
        "result = mock(1, 2, 3)\n",
        "mock.first(a=3)"
      ],
      "metadata": {
        "colab": {
          "base_uri": "https://localhost:8080/"
        },
        "id": "gMwVQP0iYENd",
        "outputId": "716d17a6-0309-4d68-f84e-85fe0e76a337"
      },
      "execution_count": null,
      "outputs": [
        {
          "output_type": "execute_result",
          "data": {
            "text/plain": [
              "<MagicMock name='mock.first()' id='140468921558736'>"
            ]
          },
          "metadata": {},
          "execution_count": 40
        }
      ]
    },
    {
      "cell_type": "code",
      "source": [
        "mock.second()"
      ],
      "metadata": {
        "colab": {
          "base_uri": "https://localhost:8080/"
        },
        "id": "zum5eXVqYq2H",
        "outputId": "8e718961-8599-4317-de53-337914cc4860"
      },
      "execution_count": null,
      "outputs": [
        {
          "output_type": "execute_result",
          "data": {
            "text/plain": [
              "<MagicMock name='mock.second()' id='140469047802960'>"
            ]
          },
          "metadata": {},
          "execution_count": 41
        }
      ]
    },
    {
      "cell_type": "code",
      "source": [
        "int(mock)"
      ],
      "metadata": {
        "colab": {
          "base_uri": "https://localhost:8080/"
        },
        "id": "J5qZMnXAYqrJ",
        "outputId": "2cf1679f-c1bd-4199-faa9-38d0f059e1bd"
      },
      "execution_count": null,
      "outputs": [
        {
          "output_type": "execute_result",
          "data": {
            "text/plain": [
              "1"
            ]
          },
          "metadata": {},
          "execution_count": 42
        }
      ]
    },
    {
      "cell_type": "code",
      "source": [
        "result(1)"
      ],
      "metadata": {
        "colab": {
          "base_uri": "https://localhost:8080/"
        },
        "id": "tGm6HjFXYqaf",
        "outputId": "078269ed-1dd8-41d2-e8b3-40a0072f7f2a"
      },
      "execution_count": null,
      "outputs": [
        {
          "output_type": "execute_result",
          "data": {
            "text/plain": [
              "<MagicMock name='mock()()' id='140468920666576'>"
            ]
          },
          "metadata": {},
          "execution_count": 43
        }
      ]
    },
    {
      "cell_type": "code",
      "source": [
        "expected = [call(1, 2, 3), call.first(a=3), call.second(),\n",
        "call.__int__(), call()(1)]\n",
        "mock.mock_calls == expected"
      ],
      "metadata": {
        "colab": {
          "base_uri": "https://localhost:8080/"
        },
        "id": "h5i5-D-XY1UF",
        "outputId": "30d152e2-815b-45c6-ce6b-896dca67bc0e"
      },
      "execution_count": null,
      "outputs": [
        {
          "output_type": "execute_result",
          "data": {
            "text/plain": [
              "True"
            ]
          },
          "metadata": {},
          "execution_count": 44
        }
      ]
    },
    {
      "cell_type": "markdown",
      "source": [],
      "metadata": {
        "id": "EMy0O2LPZa7b"
      }
    },
    {
      "cell_type": "markdown",
      "source": [
        "### Asserts for Mock"
      ],
      "metadata": {
        "id": "FtCro78eZL0r"
      }
    },
    {
      "cell_type": "code",
      "source": [
        "mock = Mock()\n",
        "mock.method(1, 2, 3, test='wow')"
      ],
      "metadata": {
        "colab": {
          "base_uri": "https://localhost:8080/"
        },
        "id": "5w4Jh0gQUSQH",
        "outputId": "4e427433-9717-45e2-a280-7efd6f04790d"
      },
      "execution_count": null,
      "outputs": [
        {
          "output_type": "execute_result",
          "data": {
            "text/plain": [
              "<Mock name='mock.method()' id='140469198952208'>"
            ]
          },
          "metadata": {},
          "execution_count": 8
        }
      ]
    },
    {
      "cell_type": "code",
      "source": [
        "mock.method.assert_called_with(1, 2, 3, test='wow')\n"
      ],
      "metadata": {
        "id": "XlE1WO_6UZ7h"
      },
      "execution_count": null,
      "outputs": []
    },
    {
      "cell_type": "code",
      "source": [
        "mock = Mock(return_value=None)\n",
        "mock(1, 2, arg='thing')\n",
        "mock('some', 'thing', 'else')"
      ],
      "metadata": {
        "id": "TDDudrg0Ubvl"
      },
      "execution_count": null,
      "outputs": []
    },
    {
      "cell_type": "code",
      "source": [
        "mock.assert_any_call(1, 2, arg='thing') # проверяет, был ли вызов вообще когда-либо с данными аргументами\n"
      ],
      "metadata": {
        "colab": {
          "base_uri": "https://localhost:8080/",
          "height": 305
        },
        "id": "aEfmLyihUlmf",
        "outputId": "f86722a8-64bf-4ce6-a3e1-41864d344745"
      },
      "execution_count": null,
      "outputs": [
        {
          "output_type": "error",
          "ename": "AssertionError",
          "evalue": "ignored",
          "traceback": [
            "\u001b[0;31m---------------------------------------------------------------------------\u001b[0m",
            "\u001b[0;31mAssertionError\u001b[0m                            Traceback (most recent call last)",
            "\u001b[0;32m<ipython-input-28-8feb4d094742>\u001b[0m in \u001b[0;36m<module>\u001b[0;34m\u001b[0m\n\u001b[0;32m----> 1\u001b[0;31m \u001b[0mmock\u001b[0m\u001b[0;34m.\u001b[0m\u001b[0massert_called_with\u001b[0m\u001b[0;34m(\u001b[0m\u001b[0;36m1\u001b[0m\u001b[0;34m,\u001b[0m \u001b[0;36m2\u001b[0m\u001b[0;34m,\u001b[0m \u001b[0marg\u001b[0m\u001b[0;34m=\u001b[0m\u001b[0;34m'thing'\u001b[0m\u001b[0;34m)\u001b[0m \u001b[0;31m# проверяет, был ли вызов вообще когда-либо\u001b[0m\u001b[0;34m\u001b[0m\u001b[0;34m\u001b[0m\u001b[0m\n\u001b[0m",
            "\u001b[0;32m/usr/lib/python3.7/unittest/mock.py\u001b[0m in \u001b[0;36massert_called_with\u001b[0;34m(_mock_self, *args, **kwargs)\u001b[0m\n\u001b[1;32m    876\u001b[0m         \u001b[0;32mif\u001b[0m \u001b[0mexpected\u001b[0m \u001b[0;34m!=\u001b[0m \u001b[0mactual\u001b[0m\u001b[0;34m:\u001b[0m\u001b[0;34m\u001b[0m\u001b[0;34m\u001b[0m\u001b[0m\n\u001b[1;32m    877\u001b[0m             \u001b[0mcause\u001b[0m \u001b[0;34m=\u001b[0m \u001b[0mexpected\u001b[0m \u001b[0;32mif\u001b[0m \u001b[0misinstance\u001b[0m\u001b[0;34m(\u001b[0m\u001b[0mexpected\u001b[0m\u001b[0;34m,\u001b[0m \u001b[0mException\u001b[0m\u001b[0;34m)\u001b[0m \u001b[0;32melse\u001b[0m \u001b[0;32mNone\u001b[0m\u001b[0;34m\u001b[0m\u001b[0;34m\u001b[0m\u001b[0m\n\u001b[0;32m--> 878\u001b[0;31m             \u001b[0;32mraise\u001b[0m \u001b[0mAssertionError\u001b[0m\u001b[0;34m(\u001b[0m\u001b[0m_error_message\u001b[0m\u001b[0;34m(\u001b[0m\u001b[0;34m)\u001b[0m\u001b[0;34m)\u001b[0m \u001b[0;32mfrom\u001b[0m \u001b[0mcause\u001b[0m\u001b[0;34m\u001b[0m\u001b[0;34m\u001b[0m\u001b[0m\n\u001b[0m\u001b[1;32m    879\u001b[0m \u001b[0;34m\u001b[0m\u001b[0m\n\u001b[1;32m    880\u001b[0m \u001b[0;34m\u001b[0m\u001b[0m\n",
            "\u001b[0;31mAssertionError\u001b[0m: Expected call: mock(1, 2, arg='thing')\nActual call: mock('some', 'thing', 'else')"
          ]
        }
      ]
    },
    {
      "cell_type": "markdown",
      "source": [
        "#### assert_has_calls"
      ],
      "metadata": {
        "id": "8JijPA3nYXUF"
      }
    },
    {
      "cell_type": "code",
      "source": [
        "from unittest.mock import call\n",
        "mock = Mock(return_value=None)\n",
        "mock(1)\n",
        "mock(2)\n",
        "mock(3)\n",
        "mock(4)\n",
        "calls = [call(2), call(3)]\n",
        "mock.assert_has_calls(calls)\n",
        "calls = [call(4), call(2), call(3)]\n",
        "mock.assert_has_calls(calls, any_order=True)"
      ],
      "metadata": {
        "id": "J_wcYBbGVHgT"
      },
      "execution_count": null,
      "outputs": []
    },
    {
      "cell_type": "markdown",
      "source": [
        "### reset_mock"
      ],
      "metadata": {
        "id": "a-YdxG_TWX2K"
      }
    },
    {
      "cell_type": "code",
      "source": [
        "mock = Mock(return_value=None)\n",
        "mock('hello')\n",
        "mock.called\n",
        "\n"
      ],
      "metadata": {
        "colab": {
          "base_uri": "https://localhost:8080/"
        },
        "id": "Kwuw1bGAVX8i",
        "outputId": "c32a7efb-80c3-4d1a-f22b-4214d5e7b4c6"
      },
      "execution_count": null,
      "outputs": [
        {
          "output_type": "execute_result",
          "data": {
            "text/plain": [
              "False"
            ]
          },
          "metadata": {},
          "execution_count": 29
        }
      ]
    },
    {
      "cell_type": "code",
      "source": [
        "mock.reset_mock()\n",
        "mock.called"
      ],
      "metadata": {
        "colab": {
          "base_uri": "https://localhost:8080/"
        },
        "id": "74u_CInzWTzV",
        "outputId": "e0590fa2-7f2e-4551-d106-cac90d7fce5a"
      },
      "execution_count": null,
      "outputs": [
        {
          "output_type": "execute_result",
          "data": {
            "text/plain": [
              "False"
            ]
          },
          "metadata": {},
          "execution_count": 30
        }
      ]
    },
    {
      "cell_type": "code",
      "source": [],
      "metadata": {
        "id": "NL7F5VHRWVo1"
      },
      "execution_count": null,
      "outputs": []
    },
    {
      "cell_type": "markdown",
      "source": [
        "### MagicMock side_effect magic"
      ],
      "metadata": {
        "id": "DnnZKoz5dxFy"
      }
    },
    {
      "cell_type": "code",
      "source": [
        "my_dict = {'a': 1, 'b': 2, 'c': 3}\n",
        "def getitem(name):\n",
        "     return my_dict[name]\n",
        "\n",
        "def setitem(name, val):\n",
        "    my_dict[name] = val\n",
        "  \n",
        "mock = MagicMock(spec_set=dict)\n",
        "mock.__getitem__.side_effect = getitem\n",
        "mock.__setitem__.side_effect = setitem"
      ],
      "metadata": {
        "id": "J6fQJTdCd2oK"
      },
      "execution_count": null,
      "outputs": []
    },
    {
      "cell_type": "code",
      "source": [
        "print(mock['a'], mock['c'])\n",
        "mock['d']"
      ],
      "metadata": {
        "colab": {
          "base_uri": "https://localhost:8080/",
          "height": 363
        },
        "id": "5lWFjNcOd1QH",
        "outputId": "3117e30d-45a3-41cb-e3d0-475d8d798e31"
      },
      "execution_count": null,
      "outputs": [
        {
          "output_type": "stream",
          "name": "stdout",
          "text": [
            "1 3\n"
          ]
        },
        {
          "output_type": "error",
          "ename": "KeyError",
          "evalue": "ignored",
          "traceback": [
            "\u001b[0;31m---------------------------------------------------------------------------\u001b[0m",
            "\u001b[0;31mKeyError\u001b[0m                                  Traceback (most recent call last)",
            "\u001b[0;32m<ipython-input-52-9a695900516f>\u001b[0m in \u001b[0;36m<module>\u001b[0;34m\u001b[0m\n\u001b[1;32m      1\u001b[0m \u001b[0mprint\u001b[0m\u001b[0;34m(\u001b[0m\u001b[0mmock\u001b[0m\u001b[0;34m[\u001b[0m\u001b[0;34m'a'\u001b[0m\u001b[0;34m]\u001b[0m\u001b[0;34m,\u001b[0m \u001b[0mmock\u001b[0m\u001b[0;34m[\u001b[0m\u001b[0;34m'c'\u001b[0m\u001b[0;34m]\u001b[0m\u001b[0;34m)\u001b[0m\u001b[0;34m\u001b[0m\u001b[0;34m\u001b[0m\u001b[0m\n\u001b[1;32m      2\u001b[0m \u001b[0;34m\u001b[0m\u001b[0m\n\u001b[0;32m----> 3\u001b[0;31m \u001b[0mmock\u001b[0m\u001b[0;34m[\u001b[0m\u001b[0;34m'd'\u001b[0m\u001b[0;34m]\u001b[0m\u001b[0;34m\u001b[0m\u001b[0;34m\u001b[0m\u001b[0m\n\u001b[0m",
            "\u001b[0;32m/usr/lib/python3.7/unittest/mock.py\u001b[0m in \u001b[0;36m__call__\u001b[0;34m(_mock_self, *args, **kwargs)\u001b[0m\n\u001b[1;32m   1014\u001b[0m         \u001b[0;31m# in the signature\u001b[0m\u001b[0;34m\u001b[0m\u001b[0;34m\u001b[0m\u001b[0;34m\u001b[0m\u001b[0m\n\u001b[1;32m   1015\u001b[0m         \u001b[0m_mock_self\u001b[0m\u001b[0;34m.\u001b[0m\u001b[0m_mock_check_sig\u001b[0m\u001b[0;34m(\u001b[0m\u001b[0;34m*\u001b[0m\u001b[0margs\u001b[0m\u001b[0;34m,\u001b[0m \u001b[0;34m**\u001b[0m\u001b[0mkwargs\u001b[0m\u001b[0;34m)\u001b[0m\u001b[0;34m\u001b[0m\u001b[0;34m\u001b[0m\u001b[0m\n\u001b[0;32m-> 1016\u001b[0;31m         \u001b[0;32mreturn\u001b[0m \u001b[0m_mock_self\u001b[0m\u001b[0;34m.\u001b[0m\u001b[0m_mock_call\u001b[0m\u001b[0;34m(\u001b[0m\u001b[0;34m*\u001b[0m\u001b[0margs\u001b[0m\u001b[0;34m,\u001b[0m \u001b[0;34m**\u001b[0m\u001b[0mkwargs\u001b[0m\u001b[0;34m)\u001b[0m\u001b[0;34m\u001b[0m\u001b[0;34m\u001b[0m\u001b[0m\n\u001b[0m\u001b[1;32m   1017\u001b[0m \u001b[0;34m\u001b[0m\u001b[0m\n\u001b[1;32m   1018\u001b[0m \u001b[0;34m\u001b[0m\u001b[0m\n",
            "\u001b[0;32m/usr/lib/python3.7/unittest/mock.py\u001b[0m in \u001b[0;36m_mock_call\u001b[0;34m(_mock_self, *args, **kwargs)\u001b[0m\n\u001b[1;32m   1080\u001b[0m                     \u001b[0;32mraise\u001b[0m \u001b[0mresult\u001b[0m\u001b[0;34m\u001b[0m\u001b[0;34m\u001b[0m\u001b[0m\n\u001b[1;32m   1081\u001b[0m             \u001b[0;32melse\u001b[0m\u001b[0;34m:\u001b[0m\u001b[0;34m\u001b[0m\u001b[0;34m\u001b[0m\u001b[0m\n\u001b[0;32m-> 1082\u001b[0;31m                 \u001b[0mresult\u001b[0m \u001b[0;34m=\u001b[0m \u001b[0meffect\u001b[0m\u001b[0;34m(\u001b[0m\u001b[0;34m*\u001b[0m\u001b[0margs\u001b[0m\u001b[0;34m,\u001b[0m \u001b[0;34m**\u001b[0m\u001b[0mkwargs\u001b[0m\u001b[0;34m)\u001b[0m\u001b[0;34m\u001b[0m\u001b[0;34m\u001b[0m\u001b[0m\n\u001b[0m\u001b[1;32m   1083\u001b[0m \u001b[0;34m\u001b[0m\u001b[0m\n\u001b[1;32m   1084\u001b[0m             \u001b[0;32mif\u001b[0m \u001b[0mresult\u001b[0m \u001b[0;32mis\u001b[0m \u001b[0;32mnot\u001b[0m \u001b[0mDEFAULT\u001b[0m\u001b[0;34m:\u001b[0m\u001b[0;34m\u001b[0m\u001b[0;34m\u001b[0m\u001b[0m\n",
            "\u001b[0;32m<ipython-input-50-4df1cf43d8df>\u001b[0m in \u001b[0;36mgetitem\u001b[0;34m(name)\u001b[0m\n\u001b[1;32m      1\u001b[0m \u001b[0mmy_dict\u001b[0m \u001b[0;34m=\u001b[0m \u001b[0;34m{\u001b[0m\u001b[0;34m'a'\u001b[0m\u001b[0;34m:\u001b[0m \u001b[0;36m1\u001b[0m\u001b[0;34m,\u001b[0m \u001b[0;34m'b'\u001b[0m\u001b[0;34m:\u001b[0m \u001b[0;36m2\u001b[0m\u001b[0;34m,\u001b[0m \u001b[0;34m'c'\u001b[0m\u001b[0;34m:\u001b[0m \u001b[0;36m3\u001b[0m\u001b[0;34m}\u001b[0m\u001b[0;34m\u001b[0m\u001b[0;34m\u001b[0m\u001b[0m\n\u001b[1;32m      2\u001b[0m \u001b[0;32mdef\u001b[0m \u001b[0mgetitem\u001b[0m\u001b[0;34m(\u001b[0m\u001b[0mname\u001b[0m\u001b[0;34m)\u001b[0m\u001b[0;34m:\u001b[0m\u001b[0;34m\u001b[0m\u001b[0;34m\u001b[0m\u001b[0m\n\u001b[0;32m----> 3\u001b[0;31m      \u001b[0;32mreturn\u001b[0m \u001b[0mmy_dict\u001b[0m\u001b[0;34m[\u001b[0m\u001b[0mname\u001b[0m\u001b[0;34m]\u001b[0m\u001b[0;34m\u001b[0m\u001b[0;34m\u001b[0m\u001b[0m\n\u001b[0m\u001b[1;32m      4\u001b[0m \u001b[0;34m\u001b[0m\u001b[0m\n\u001b[1;32m      5\u001b[0m \u001b[0;32mdef\u001b[0m \u001b[0msetitem\u001b[0m\u001b[0;34m(\u001b[0m\u001b[0mname\u001b[0m\u001b[0;34m,\u001b[0m \u001b[0mval\u001b[0m\u001b[0;34m)\u001b[0m\u001b[0;34m:\u001b[0m\u001b[0;34m\u001b[0m\u001b[0;34m\u001b[0m\u001b[0m\n",
            "\u001b[0;31mKeyError\u001b[0m: 'd'"
          ]
        }
      ]
    },
    {
      "cell_type": "code",
      "source": [
        "mock = Mock()\n",
        "mock.__getitem__ = Mock(side_effect=getitem)\n",
        "mock.__setitem__ = Mock(side_effect=setitem)"
      ],
      "metadata": {
        "id": "Gu2X9uLQeoiN"
      },
      "execution_count": null,
      "outputs": []
    },
    {
      "cell_type": "markdown",
      "source": [
        "### Работа с patch"
      ],
      "metadata": {
        "id": "sh_nJDBQh-o5"
      }
    },
    {
      "cell_type": "code",
      "source": [
        "%%ipytest\n",
        "import math\n",
        " \n",
        "class TestSmth():\n",
        "    def test_foo(self, mocker):\n",
        "        with mocker.patch('math.pow') as mock_foo:\n",
        "            assert isinstance(math.pow, mocker.MagicMock)\n",
        "\n",
        "math.pow(2,2)\n",
        "                    \n",
        "\n"
      ],
      "metadata": {
        "colab": {
          "base_uri": "https://localhost:8080/"
        },
        "id": "vgPG3f37iA-j",
        "outputId": "70041e5f-5634-40fa-e418-26a006b45f17"
      },
      "execution_count": 22,
      "outputs": [
        {
          "output_type": "execute_result",
          "data": {
            "text/plain": [
              "4.0"
            ]
          },
          "metadata": {},
          "execution_count": 22
        },
        {
          "output_type": "stream",
          "name": "stdout",
          "text": [
            "\u001b[32m.\u001b[0m\u001b[32m                                                                                            [100%]\u001b[0m\n",
            "\u001b[33m========================================= warnings summary =========================================\u001b[0m\n",
            "tmpvygm7grd.py::TestSmth::test_foo\n",
            "  /content/tmpvygm7grd.py:5: PytestMockWarning: Mocks returned by pytest-mock do not need to be used as context managers. The mocker fixture automatically undoes mocking at the end of a test. This warning can be ignored if it was triggered by mocking a context manager. https://pytest-mock.readthedocs.io/en/latest/remarks.html#usage-as-context-manager\n",
            "\n",
            "-- Docs: https://docs.pytest.org/en/stable/how-to/capture-warnings.html\n",
            "\u001b[33m\u001b[32m1 passed\u001b[0m, \u001b[33m\u001b[1m1 warning\u001b[0m\u001b[33m in 0.02s\u001b[0m\u001b[0m\n"
          ]
        }
      ]
    },
    {
      "cell_type": "markdown",
      "source": [
        "### Домашнее задание"
      ],
      "metadata": {
        "id": "StP7iAiPtQZt"
      }
    },
    {
      "cell_type": "markdown",
      "source": [
        "Задание 1:  \n",
        "Придумать классы эквивалентности для функции, проверяющей, является ли строка **палиндромом**. Написать эти тесты и реализовать саму функцию. У вас должно получиться **как минимум** 4 теста. Попробуйте придерживаться принципа TDD: в начале реализуйте тесты, а затем — искомую функцию."
      ],
      "metadata": {
        "id": "QR3qVjjn4m13"
      }
    },
    {
      "cell_type": "markdown",
      "source": [
        "Задание 2:  \n",
        "Для классов Designer и Developer из домашнего задания к 7 вебинару реализуйте фикстуры designer и developer соответственно, такие, чтобы они вовращали функцию, принимающую на вход только seniority, и напишите с их использованием как минимум один тест, проверающий грейд в зависимости от переданного seniority. **Для name и awards мы делаем заглушки dummy. Инициализируем их контантами.**\n",
        "\n",
        "Пример фикстуры для класса с сигнатурой Customer(name, money):\n",
        "```\n",
        "@pytest.fixture\n",
        "def customer():\n",
        "  def init_customer(money):\n",
        "    return Customer(name='Bob',money=money)\n",
        "  return init_customer\n",
        "```\n",
        "\n"
      ],
      "metadata": {
        "id": "K4Hl78u8-xd3"
      }
    },
    {
      "cell_type": "markdown",
      "source": [
        "Здадание 3:  \n",
        "Написать тест, проверяющий работу метода **make_format** класса **Rate** из домашнего задания к вебинару 7.\n",
        "\n",
        "Написать тесты, проверяющие работу метода make_format класса Rate из домашнего задания к 7 вебинару. При этом тесты должны покрывать **все возможные** варианты инициализации класса разными значениями переданных аргументов (format='full'/'value', diff=True/False).\n",
        "Подсказка: количество написанного кода можно сократить с помощью параметризации тестов, если найти закономерность.\n",
        "\n",
        "> **!!! Важно!** Тест не должен обращаться к внешним ресурсам. Вам необходимо их замокать (запрос к ресурсу с курсами валют)\n",
        "\n",
        "> Все валюты из источника тесты проверять не нужно, достаточно выбрать одну валюту. \n",
        "\n",
        "\n",
        "\n"
      ],
      "metadata": {
        "id": "sTMGE2iiz6kK"
      }
    },
    {
      "cell_type": "markdown",
      "source": [],
      "metadata": {
        "id": "FqsVWHRZ5U2S"
      }
    },
    {
      "cell_type": "code",
      "source": [],
      "metadata": {
        "id": "oPCXYVN_i5uB"
      },
      "execution_count": null,
      "outputs": []
    },
    {
      "cell_type": "code",
      "source": [],
      "metadata": {
        "id": "P180bBGrvk7Y"
      },
      "execution_count": null,
      "outputs": []
    }
  ]
}